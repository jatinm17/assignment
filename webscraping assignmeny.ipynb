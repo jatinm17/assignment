{
 "cells": [
  {
   "cell_type": "code",
   "execution_count": null,
   "id": "1385365a-99eb-4d3b-b6ad-988829f8b747",
   "metadata": {},
   "outputs": [],
   "source": [
    "QUESTION 1\n",
    "Web scraping is an automatic method to obtain large amounts of data from websites. Most of this data is unstructured data in an HTML format which is then converted into structured data in a spreadsheet or a database so that it can be used in various applications. There are many different ways to perform web scraping to obtain data from websites. These include using online services, particular API’s or even creating your code for web scraping from scratch. Many large websites, like Google, Twitter, Facebook, StackOverflow, etc. have API’s that allow you to access their data in a structured format. This is the best option, but there are other sites that don’t allow users to access large amounts of data in a structured form or they are simply not that technologically advanced. In that situation, it’s best to use Web Scraping to scrape the website for data."
   ]
  },
  {
   "cell_type": "code",
   "execution_count": null,
   "id": "d6e0d80e-ab5f-4843-8880-aa2b547394f8",
   "metadata": {},
   "outputs": [],
   "source": [
    "ques 2\n",
    "HTTP programming\n",
    "HTML parsing\n",
    "DOM parsing"
   ]
  },
  {
   "cell_type": "code",
   "execution_count": null,
   "id": "f511e7dc-ccb7-4da8-96af-439186fb76ab",
   "metadata": {},
   "outputs": [],
   "source": [
    "QUESTION 3\n",
    "Beautiful Soup is a Python library that makes it easy to scrape information from web pages. It sits atop an HTML or XML parser and provides Pythonic idioms for iterating, searching, and modifying the parse tree.\n",
    "The Beautiful Soup library helps with isolating titles and links from webpages. It can extract all of the text from ​HTML tags, and alter the HTML ​in the document with which we’re working.\n"
   ]
  },
  {
   "cell_type": "code",
   "execution_count": null,
   "id": "458b32f4-b1c7-459c-87ff-c1758dd8fa3b",
   "metadata": {},
   "outputs": [],
   "source": [
    "QUESTION 4\n",
    "Flask is a lightweight framework to build websites. We'll use this to parse our collected data and display it as HTML in a new HTML file. The requests module allows us to send http requests to the website we want to scrape."
   ]
  },
  {
   "cell_type": "code",
   "execution_count": null,
   "id": "040ffc28-388a-4cfb-a2ab-37adc00e49b7",
   "metadata": {},
   "outputs": [],
   "source": []
  }
 ],
 "metadata": {
  "kernelspec": {
   "display_name": "Python 3 (ipykernel)",
   "language": "python",
   "name": "python3"
  },
  "language_info": {
   "codemirror_mode": {
    "name": "ipython",
    "version": 3
   },
   "file_extension": ".py",
   "mimetype": "text/x-python",
   "name": "python",
   "nbconvert_exporter": "python",
   "pygments_lexer": "ipython3",
   "version": "3.10.8"
  }
 },
 "nbformat": 4,
 "nbformat_minor": 5
}
